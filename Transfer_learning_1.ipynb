{
  "nbformat": 4,
  "nbformat_minor": 0,
  "metadata": {
    "colab": {
      "provenance": [],
      "authorship_tag": "ABX9TyPYcO12rO4ExTvknNZsd8RY",
      "include_colab_link": true
    },
    "kernelspec": {
      "name": "python3",
      "display_name": "Python 3"
    },
    "language_info": {
      "name": "python"
    }
  },
  "cells": [
    {
      "cell_type": "markdown",
      "metadata": {
        "id": "view-in-github",
        "colab_type": "text"
      },
      "source": [
        "<a href=\"https://colab.research.google.com/github/PaulaFlavia/ML--transferLearning/blob/main/Transfer_learning_1.ipynb\" target=\"_parent\"><img src=\"https://colab.research.google.com/assets/colab-badge.svg\" alt=\"Open In Colab\"/></a>"
      ]
    },
    {
      "cell_type": "code",
      "source": [
        "# Importar bibliotecas\n",
        "import tensorflow as tf\n",
        "import os\n",
        "from tensorflow import keras\n",
        "from tensorflow.keras import layers\n",
        "from tensorflow.keras.models import Sequential\n",
        "import matplotlib.pyplot as plt\n",
        "\n",
        "# URL do dataset\n",
        "url = 'https://storage.googleapis.com/mledu-datasets/cats_and_dogs_filtered.zip'\n",
        "\n",
        "# Carregar dataset de gatos e cachorros\n",
        "path_to_zip = tf.keras.utils.get_file('cats_and_dogs.zip', origin=url, extract=True)\n",
        "PATH = os.path.join(os.path.dirname(path_to_zip), 'cats_and_dogs_filtered')\n",
        "\n",
        "train_ds = tf.keras.preprocessing.image_dataset_from_directory(\n",
        "  os.path.join(PATH, 'train'),\n",
        "  validation_split=0.2,\n",
        "  subset=\"training\",\n",
        "  seed=123,\n",
        "  image_size=(224, 224),\n",
        "  batch_size=32)\n",
        "\n",
        "val_ds = tf.keras.preprocessing.image_dataset_from_directory(\n",
        "  os.path.join(PATH, 'train'),\n",
        "  validation_split=0.2,\n",
        "  subset=\"validation\",\n",
        "  seed=123,\n",
        "  image_size=(224, 224),\n",
        "  batch_size=32)\n",
        "\n",
        "# Pré-processamento das imagens\n",
        "normalization_layer = layers.experimental.preprocessing.Rescaling(1./255)\n",
        "train_ds = train_ds.map(lambda x, y: (normalization_layer(x), y))\n",
        "val_ds = val_ds.map(lambda x, y: (normalization_layer(x), y))\n",
        "\n",
        "# Carregar modelo pré-treinado\n",
        "base_model = keras.applications.VGG16(\n",
        "    weights='imagenet',  # Carregar pesos pré-treinados\n",
        "    input_shape=(224, 224, 3),\n",
        "    include_top=False)  # Não incluir camadas densas no topo\n",
        "\n",
        "# Congelar camadas convolucionais\n",
        "for layer in base_model.layers:\n",
        "    layer.trainable = False\n",
        "\n",
        "# Adicionar camadas densas\n",
        "model = Sequential()\n",
        "model.add(base_model)\n",
        "model.add(layers.Flatten())\n",
        "model.add(layers.Dense(256, activation='relu'))\n",
        "model.add(layers.Dropout(0.5))\n",
        "model.add(layers.Dense(1, activation='sigmoid'))\n",
        "\n",
        "# Compilar e treinar modelo\n",
        "model.compile(loss='binary_crossentropy',\n",
        "              optimizer=keras.optimizers.Adam(lr=0.0001),\n",
        "              metrics=['accuracy'])\n",
        "\n",
        "history = model.fit(\n",
        "    train_ds,\n",
        "    validation_data=val_ds,\n",
        "    epochs=10)\n",
        "\n",
        "# Avaliar modelo\n",
        "model.evaluate(val_ds)\n",
        "\n",
        "# Salvar modelo treinado\n",
        "model.save('cats_vs_dogs.h5')\n",
        "\n"
      ],
      "metadata": {
        "colab": {
          "base_uri": "https://localhost:8080/"
        },
        "id": "Nk4eVWFusR5f",
        "outputId": "380fa069-3f9d-40ef-bca4-566101fffcfa"
      },
      "execution_count": 2,
      "outputs": [
        {
          "output_type": "stream",
          "name": "stdout",
          "text": [
            "Found 2000 files belonging to 2 classes.\n",
            "Using 1600 files for training.\n",
            "Found 2000 files belonging to 2 classes.\n",
            "Using 400 files for validation.\n",
            "Downloading data from https://storage.googleapis.com/tensorflow/keras-applications/vgg16/vgg16_weights_tf_dim_ordering_tf_kernels_notop.h5\n",
            "58889256/58889256 [==============================] - 0s 0us/step\n"
          ]
        },
        {
          "output_type": "stream",
          "name": "stderr",
          "text": [
            "WARNING:absl:`lr` is deprecated in Keras optimizer, please use `learning_rate` or use the legacy optimizer, e.g.,tf.keras.optimizers.legacy.Adam.\n"
          ]
        },
        {
          "output_type": "stream",
          "name": "stdout",
          "text": [
            "Epoch 1/10\n",
            "50/50 [==============================] - 832s 17s/step - loss: 1.2365 - accuracy: 0.7475 - val_loss: 0.2552 - val_accuracy: 0.8900\n",
            "Epoch 2/10\n",
            "50/50 [==============================] - 877s 18s/step - loss: 0.2101 - accuracy: 0.9069 - val_loss: 0.2229 - val_accuracy: 0.8950\n",
            "Epoch 3/10\n",
            "50/50 [==============================] - 869s 17s/step - loss: 0.1654 - accuracy: 0.9331 - val_loss: 0.2156 - val_accuracy: 0.9075\n",
            "Epoch 4/10\n",
            "50/50 [==============================] - 832s 17s/step - loss: 0.1268 - accuracy: 0.9581 - val_loss: 0.2060 - val_accuracy: 0.9100\n",
            "Epoch 5/10\n",
            "50/50 [==============================] - 831s 17s/step - loss: 0.0877 - accuracy: 0.9675 - val_loss: 0.1980 - val_accuracy: 0.9150\n",
            "Epoch 6/10\n",
            "50/50 [==============================] - 836s 17s/step - loss: 0.0667 - accuracy: 0.9775 - val_loss: 0.2116 - val_accuracy: 0.9125\n",
            "Epoch 7/10\n",
            "50/50 [==============================] - 831s 17s/step - loss: 0.0552 - accuracy: 0.9856 - val_loss: 0.2038 - val_accuracy: 0.9125\n",
            "Epoch 8/10\n",
            "50/50 [==============================] - 830s 17s/step - loss: 0.0372 - accuracy: 0.9919 - val_loss: 0.2275 - val_accuracy: 0.9125\n",
            "Epoch 9/10\n",
            "50/50 [==============================] - 865s 17s/step - loss: 0.0429 - accuracy: 0.9875 - val_loss: 0.2739 - val_accuracy: 0.9000\n",
            "Epoch 10/10\n",
            "50/50 [==============================] - 834s 17s/step - loss: 0.0446 - accuracy: 0.9856 - val_loss: 0.2120 - val_accuracy: 0.9200\n",
            "13/13 [==============================] - 166s 13s/step - loss: 0.2120 - accuracy: 0.9200\n"
          ]
        }
      ]
    }
  ]
}